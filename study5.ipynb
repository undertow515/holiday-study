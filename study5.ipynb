{
 "cells": [
  {
   "cell_type": "code",
   "execution_count": 14,
   "metadata": {},
   "outputs": [
    {
     "data": {
      "text/plain": [
       "<__main__.Mydataset at 0x2794d807820>"
      ]
     },
     "execution_count": 14,
     "metadata": {},
     "output_type": "execute_result"
    }
   ],
   "source": [
    "import torch.nn as nn\n",
    "import torch.nn.functional as F\n",
    "import torch\n",
    "import numpy as np\n",
    "from torch.utils.data import Dataset, DataLoader\n",
    "import pandas as pd\n",
    "class Mydataset(Dataset):\n",
    "    def __init__(self, df: pd.DataFrame, transform=None, prediction_length:int = 60):\n",
    "        self.df = df\n",
    "        self.transform = transform\n",
    "        self.target = df['target'].values\n",
    "        self.prediction_length = prediction_length\n",
    "\n",
    "    def __len__(self):\n",
    "        return 1\n",
    "    def __getitem__(self):\n",
    "        return {\"train\": {\"target\":torch.tensor(self.target, dtype=torch.float32)} ,\\\n",
    "                \"test\":{\"target\":torch.tensor(self.target[:-self.prediction_length], dtype=torch.float32)}}\n",
    "    \n",
    "\n",
    "df = pd.read_csv(\"ASOS_Daily_2000_2004.csv\")\n",
    "\n",
    "df = df[[\"tm\", \"avgTa\", \"maxTa\", \"sumRn\", \"avgWs\", \"avgRhm\"]]\n",
    "df[\"tm\"] = pd.to_datetime(df[\"tm\"], format = \"%Y-%m-%d\")\n",
    "df.fillna(0, inplace = True)\n",
    "# index to datetime index\n",
    "\n",
    "# the data is not complete\n",
    "# features of data is str format\n",
    "# so we have to change the data type\n",
    "# first, we need to fill the missing data\n",
    "df = df.applymap(lambda x: 0 if x == \"\" else x)\n",
    "df = df.astype({\"avgTa\": np.float32, \"maxTa\": np.float32, \"sumRn\": np.float32, \"avgWs\": np.float32, \"avgRhm\": np.float32})\n",
    "df.rename(columns = {\"tm\": \"time\", \"avgTa\": \"target\"}, inplace = True)\n",
    "\n",
    "mds = Mydataset(df)\n",
    "mds\n",
    "    \n",
    "\n"
   ]
  },
  {
   "cell_type": "code",
   "execution_count": 19,
   "metadata": {},
   "outputs": [
    {
     "ename": "TypeError",
     "evalue": "Mydataset.__getitem__() takes 1 positional argument but 2 were given",
     "output_type": "error",
     "traceback": [
      "\u001b[1;31m---------------------------------------------------------------------------\u001b[0m",
      "\u001b[1;31mTypeError\u001b[0m                                 Traceback (most recent call last)",
      "Cell \u001b[1;32mIn[19], line 1\u001b[0m\n\u001b[1;32m----> 1\u001b[0m mds[\u001b[39m\"\u001b[39;49m\u001b[39mtrain\u001b[39;49m\u001b[39m\"\u001b[39;49m]\n",
      "\u001b[1;31mTypeError\u001b[0m: Mydataset.__getitem__() takes 1 positional argument but 2 were given"
     ]
    }
   ],
   "source": [
    "mds[\"train\"]\n"
   ]
  },
  {
   "cell_type": "code",
   "execution_count": null,
   "metadata": {},
   "outputs": [],
   "source": []
  }
 ],
 "metadata": {
  "kernelspec": {
   "display_name": "venv",
   "language": "python",
   "name": "python3"
  },
  "language_info": {
   "codemirror_mode": {
    "name": "ipython",
    "version": 3
   },
   "file_extension": ".py",
   "mimetype": "text/x-python",
   "name": "python",
   "nbconvert_exporter": "python",
   "pygments_lexer": "ipython3",
   "version": "3.10.9"
  },
  "orig_nbformat": 4
 },
 "nbformat": 4,
 "nbformat_minor": 2
}
